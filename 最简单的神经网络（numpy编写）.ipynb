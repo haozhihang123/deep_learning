{
 "cells": [
  {
   "cell_type": "code",
   "execution_count": 2,
   "metadata": {
    "collapsed": true
   },
   "outputs": [],
   "source": [
    "# 三层神经网络\n",
    "import numpy as np\n",
    "def sigmoid(x,derive=False):\n",
    "    if derive is True:\n",
    "        return x*(1-x)\n",
    "    return 1/(1+np.exp(-x))"
   ]
  },
  {
   "cell_type": "code",
   "execution_count": 3,
   "metadata": {},
   "outputs": [
    {
     "name": "stdout",
     "output_type": "stream",
     "text": [
      "(5, 3)\n"
     ]
    }
   ],
   "source": [
    "# 输入\n",
    "x = np.array([[0,0,1],\n",
    "             [0,1,0],\n",
    "             [1,0,1],\n",
    "             [1,1,1],\n",
    "             [0,0,1]])\n",
    "print(x.shape)"
   ]
  },
  {
   "cell_type": "code",
   "execution_count": 4,
   "metadata": {},
   "outputs": [
    {
     "name": "stdout",
     "output_type": "stream",
     "text": [
      "(5, 1)\n"
     ]
    }
   ],
   "source": [
    "# 输出\n",
    "y = np.array([[0],\n",
    "              [1],\n",
    "              [1],\n",
    "              [0],\n",
    "              [0]])\n",
    "print(y.shape)"
   ]
  },
  {
   "cell_type": "code",
   "execution_count": 5,
   "metadata": {},
   "outputs": [
    {
     "name": "stdout",
     "output_type": "stream",
     "text": [
      "[[-0.16595599  0.44064899 -0.99977125 -0.39533485]\n",
      " [-0.70648822 -0.81532281 -0.62747958 -0.30887855]\n",
      " [-0.20646505  0.07763347 -0.16161097  0.370439  ]]\n"
     ]
    }
   ],
   "source": [
    "np.random.seed(1)\n",
    "# 随机取值在-1到+1之间\n",
    "# w0在输入层与隐含层之间，w1在隐含层与输出层之间\n",
    "w0 = 2 * np.random.random((3,4))-1\n",
    "w1 = 2 * np.random.random((4,1))-1\n",
    "print(w0)\n"
   ]
  },
  {
   "cell_type": "code",
   "execution_count": 21,
   "metadata": {},
   "outputs": [
    {
     "name": "stdout",
     "output_type": "stream",
     "text": [
      "error0.497050396898\n",
      "error0.0106297666446\n",
      "error0.00732314260747\n",
      "error0.00591346612408\n",
      "error0.00508755228944\n",
      "error0.00452980989871\n"
     ]
    }
   ],
   "source": [
    "#循环60000次算出最优w0和w1，每循环一次，误差会相应降低     \n",
    "# print(w0)\n",
    "# print(w1)\n",
    "for j in range(60000):\n",
    "    # 前向传播\n",
    "    l0 = x\n",
    "    l1 = sigmoid(np.dot(l0,w0))\n",
    "    l2 = sigmoid(np.dot(l1,w1))\n",
    "    l2_error = y - l2\n",
    "#     print(l2_error.shape)\n",
    "    if (j%10000) == 0:\n",
    "        print(\"error\"+ str(np.mean(np.abs(l2_error))))\n",
    "#         print(w0)\n",
    "#         print(w1)\n",
    "    # 反向传播\n",
    "    l2_delta = l2_error * sigmoid(l2,derive=True)\n",
    "#     print(sigmoid(l2,derive=True).shape)\n",
    "    l1_error = l2_delta.dot(w1.T)\n",
    "    l1_delta = l1_error * sigmoid(l1,derive=True)\n",
    "    # 更新权重值\n",
    "    w1 += 0.5*l1.T.dot(l2_delta)\n",
    "    w0 += 0.5*l0.T.dot(l1_delta)"
   ]
  },
  {
   "cell_type": "code",
   "execution_count": null,
   "metadata": {
    "collapsed": true
   },
   "outputs": [],
   "source": []
  },
  {
   "cell_type": "code",
   "execution_count": null,
   "metadata": {
    "collapsed": true
   },
   "outputs": [],
   "source": []
  }
 ],
 "metadata": {
  "kernelspec": {
   "display_name": "Python 3",
   "language": "python",
   "name": "python3"
  },
  "language_info": {
   "codemirror_mode": {
    "name": "ipython",
    "version": 3
   },
   "file_extension": ".py",
   "mimetype": "text/x-python",
   "name": "python",
   "nbconvert_exporter": "python",
   "pygments_lexer": "ipython3",
   "version": "3.6.3"
  }
 },
 "nbformat": 4,
 "nbformat_minor": 2
}
