{
 "cells": [
  {
   "cell_type": "code",
   "execution_count": 1,
   "metadata": {},
   "outputs": [
    {
     "name": "stdout",
     "output_type": "stream",
     "text": [
      "Epoch[20/1000], loss: 0.179557\n",
      "Epoch[40/1000], loss: 0.178517\n",
      "Epoch[60/1000], loss: 0.177579\n",
      "Epoch[80/1000], loss: 0.176732\n",
      "Epoch[100/1000], loss: 0.175968\n",
      "Epoch[120/1000], loss: 0.175278\n",
      "Epoch[140/1000], loss: 0.174656\n",
      "Epoch[160/1000], loss: 0.174095\n",
      "Epoch[180/1000], loss: 0.173589\n",
      "Epoch[200/1000], loss: 0.173132\n",
      "Epoch[220/1000], loss: 0.172720\n",
      "Epoch[240/1000], loss: 0.172348\n",
      "Epoch[260/1000], loss: 0.172012\n",
      "Epoch[280/1000], loss: 0.171710\n",
      "Epoch[300/1000], loss: 0.171437\n",
      "Epoch[320/1000], loss: 0.171190\n",
      "Epoch[340/1000], loss: 0.170968\n",
      "Epoch[360/1000], loss: 0.170767\n",
      "Epoch[380/1000], loss: 0.170586\n",
      "Epoch[400/1000], loss: 0.170423\n",
      "Epoch[420/1000], loss: 0.170275\n",
      "Epoch[440/1000], loss: 0.170143\n",
      "Epoch[460/1000], loss: 0.170023\n",
      "Epoch[480/1000], loss: 0.169914\n",
      "Epoch[500/1000], loss: 0.169817\n",
      "Epoch[520/1000], loss: 0.169729\n",
      "Epoch[540/1000], loss: 0.169649\n",
      "Epoch[560/1000], loss: 0.169577\n",
      "Epoch[580/1000], loss: 0.169513\n",
      "Epoch[600/1000], loss: 0.169454\n",
      "Epoch[620/1000], loss: 0.169402\n",
      "Epoch[640/1000], loss: 0.169354\n",
      "Epoch[660/1000], loss: 0.169311\n",
      "Epoch[680/1000], loss: 0.169272\n",
      "Epoch[700/1000], loss: 0.169237\n",
      "Epoch[720/1000], loss: 0.169206\n",
      "Epoch[740/1000], loss: 0.169178\n",
      "Epoch[760/1000], loss: 0.169152\n",
      "Epoch[780/1000], loss: 0.169129\n",
      "Epoch[800/1000], loss: 0.169108\n",
      "Epoch[820/1000], loss: 0.169089\n",
      "Epoch[840/1000], loss: 0.169072\n",
      "Epoch[860/1000], loss: 0.169057\n",
      "Epoch[880/1000], loss: 0.169043\n",
      "Epoch[900/1000], loss: 0.169030\n",
      "Epoch[920/1000], loss: 0.169019\n",
      "Epoch[940/1000], loss: 0.169009\n",
      "Epoch[960/1000], loss: 0.169000\n",
      "Epoch[980/1000], loss: 0.168992\n",
      "Epoch[1000/1000], loss: 0.168984\n"
     ]
    },
    {
     "data": {
      "image/png": "[encoded data removed]",
      "text/plain": [
       "<matplotlib.figure.Figure at 0x22e32665fd0>"
      ]
     },
     "metadata": {},
     "output_type": "display_data"
    }
   ],
   "source": [
    "\"\"\"一维线性回归代码实现\"\"\"\n",
    "import torch\n",
    "from torch.autograd import Variable\n",
    "import matplotlib.pyplot as plt\n",
    "import torch.nn as nn\n",
    "import torch.optim as optim\n",
    "import numpy as np\n",
    "class LinearRegression(nn.Module):\n",
    "    def __init__(self):\n",
    "        super(LinearRegression, self).__init__()\n",
    "        self.linear = nn.Linear(1,1)\n",
    " \n",
    " \n",
    "    def forward(self, x):\n",
    "        out = self.linear(x)\n",
    "        return out\n",
    " \n",
    " \n",
    " \n",
    "if __name__ == '__main__':\n",
    "    x_train = np.array([[3.3], [4.4], [5.5], [6.71], [6.93], [4.168], [9.779], [6.182], [7.59], [2.167], [7.042], [10.791], [5.313], [7.997], [3.1]], dtype=np.float32)\n",
    " \n",
    "    y_train = np.array([[1.7], [2.76], [2.09], [3.19], [1.694], [1.573], [3.366], [2.596], [2.53], [1.221], [2.827], [3.465], [1.65], [2.904], [1.3]], dtype=np.float32)\n",
    " \n",
    "    x_train = torch.from_numpy(x_train)\n",
    "    y_train = torch.from_numpy(y_train)\n",
    " \n",
    "    if torch.cuda.is_available():\n",
    "        model = LinearRegression().cuda()\n",
    "    else:\n",
    "        model = LinearRegression()\n",
    " \n",
    "    criterion = nn.MSELoss()\n",
    "    optimizer = optim.SGD(model.parameters(), lr=1e-2)\n",
    " \n",
    " \n",
    "    num_epochs = 1000\n",
    "    for epoch in range(num_epochs):\n",
    "        if torch.cuda.is_available():\n",
    "            inputs = Variable(x_train).cuda()\n",
    "            target = Variable(y_train).cuda()\n",
    "        else:\n",
    "            inputs = Variable(x_train)\n",
    "            target = Variable(y_train)\n",
    " \n",
    "        # forward\n",
    "        out = model.forward(inputs)\n",
    "        loss = criterion(out, target)\n",
    "        # backward\n",
    "        optimizer.zero_grad()\n",
    "        loss.backward()\n",
    "        optimizer.step()\n",
    " \n",
    "        if(epoch+1)%20==0:\n",
    "            print('Epoch[{}/{}], loss: {:.6f}'.format(epoch+1, num_epochs, loss.item()))\n",
    " \n",
    "    model.eval()\n",
    "    model.cpu()\n",
    "    predict = model(Variable(x_train))\n",
    "    predict = predict.data.numpy()\n",
    "    plt.plot(x_train.numpy(), y_train.numpy(), 'ro', label='Original data')\n",
    "    plt.plot(x_train.numpy(), predict, label='Fitting Line')\n",
    "    plt.show()"
   ]
  },
  {
   "cell_type": "code",
   "execution_count": null,
   "metadata": {},
   "outputs": [],
   "source": []
  },
  {
   "cell_type": "code",
   "execution_count": null,
   "metadata": {
    "collapsed": true
   },
   "outputs": [],
   "source": []
  }
 ],
 "metadata": {
  "kernelspec": {
   "display_name": "Python 3",
   "language": "python",
   "name": "python3"
  },
  "language_info": {
   "codemirror_mode": {
    "name": "ipython",
    "version": 3
   },
   "file_extension": ".py",
   "mimetype": "text/x-python",
   "name": "python",
   "nbconvert_exporter": "python",
   "pygments_lexer": "ipython3",
   "version": "3.6.3"
  }
 },
 "nbformat": 4,
 "nbformat_minor": 2
}
