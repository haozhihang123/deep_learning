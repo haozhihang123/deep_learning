{
 "cells": [
  {
   "cell_type": "code",
   "execution_count": 2,
   "metadata": {},
   "outputs": [
    {
     "name": "stdout",
     "output_type": "stream",
     "text": [
      "<class 'torch.Tensor'>\n"
     ]
    },
    {
     "data": {
      "image/png": "[encoded data removed]",
      "text/plain": [
       "<matplotlib.figure.Figure at 0x1f38d7d4cc0>"
      ]
     },
     "metadata": {},
     "output_type": "display_data"
    },
    {
     "name": "stdout",
     "output_type": "stream",
     "text": [
      "Sequential(\n",
      "  (0): Linear(in_features=1, out_features=10, bias=True)\n",
      "  (1): ReLU()\n",
      "  (2): Linear(in_features=10, out_features=15, bias=True)\n",
      "  (3): ReLU()\n",
      "  (4): Linear(in_features=15, out_features=20, bias=True)\n",
      "  (5): ReLU()\n",
      "  (6): Linear(in_features=20, out_features=1, bias=True)\n",
      ")\n"
     ]
    },
    {
     "data": {
      "image/png": "[encoded data removed]",
      "text/plain": [
       "<matplotlib.figure.Figure at 0x1f390151c88>"
      ]
     },
     "metadata": {},
     "output_type": "display_data"
    }
   ],
   "source": [
    "import torch\n",
    "from torch.autograd import Variable\n",
    "import numpy as np\n",
    "import matplotlib.pyplot as plt\n",
    " \n",
    "# # 批量输入的数据量\n",
    "# batch_n = 1\n",
    "# # 通过隐藏层后输出的特征数\n",
    "# hidden_layer = 10\n",
    "# # 输入数据的特征个数\n",
    "# input_data = 1000\n",
    "# # 最后输出的分类结果数\n",
    "# output_data = 10\n",
    " \n",
    "# x = Variable(torch.randn(batch_n , input_data) , requires_grad = False)\n",
    "# y = Variable(torch.randn(batch_n , output_data) , requires_grad = False)\n",
    "x_train = torch.unsqueeze(torch.linspace(-1,1,100),dim=1)\n",
    "y_train = x_train.pow(5) + 0.2*torch.rand(x_train.size())\n",
    "\n",
    "x_train,y_train = Variable(x_train),Variable(y_train)\n",
    "print(type(x_train))\n",
    "plt.scatter(x_train.data,y_train.data)\n",
    "plt.show()\n",
    "# -------------------------------------------------------------------------\n",
    "# x_train = np.array([[3.3], [4.4], [5.5], [6.71], [6.93], [4.168], [9.779], [6.182], [7.59], [2.167], [7.042], [10.791], [5.313], [7.997], [3.1]], dtype=np.float32)\n",
    "\n",
    "# y_train = np.array([[1.7], [2.76], [2.09], [3.19], [1.694], [1.573], [3.366], [2.596], [2.53], [1.221], [2.827], [3.465], [1.65], [2.904], [1.3]], dtype=np.float32)\n",
    "\n",
    "# x_train = torch.from_numpy(x_train)\n",
    "# y_train = torch.from_numpy(y_train)\n",
    "# -------------------------------------------------------------------------\n",
    " \n",
    "models = torch.nn.Sequential(\n",
    "    # 首先通过其完成从输入层到隐藏层的线性变换\n",
    "    torch.nn.Linear(1,10),\n",
    "    # 经过激活函数\n",
    "    torch.nn.ReLU(),\n",
    "    # 接着完成从隐藏层1到隐藏层2的线性变换\n",
    "    torch.nn.Linear(10,15),\n",
    "    # 经过激活函数\n",
    "    torch.nn.ReLU(),\n",
    "    # 完成从隐藏层2到隐藏层3的线性变换\n",
    "    torch.nn.Linear(15,20),\n",
    "    # 经过激活函数\n",
    "    torch.nn.ReLU(),\n",
    "    # 最后完成从隐藏层3到输出层的线性变换\n",
    "    torch.nn.Linear(20,1)\n",
    "    \n",
    ")\n",
    "print(models)\n",
    " \n",
    "epoch_n = 300\n",
    "learning_rate = 1e-1\n",
    "loss_fn = torch.nn.MSELoss()\n",
    " \n",
    "optimzer = torch.optim.Adam(models.parameters(),lr = learning_rate)\n",
    " \n",
    "#进行模型训练\n",
    "for epoch in range(epoch_n):\n",
    "    y_pred = models(x_train)\n",
    "    loss = loss_fn(y_pred,y_train)\n",
    "#     if epoch%20 == 0:\n",
    "#         print(epoch,loss.data)\n",
    "    optimzer.zero_grad()\n",
    " \n",
    "    loss.backward()\n",
    " \n",
    "    #进行梯度更新\n",
    "    optimzer.step()\n",
    "y_pred = models(x_train)\n",
    "y_pred = y_pred.data.numpy()\n",
    "# plt.plot(x_train.numpy(), y_train.numpy(), 'ro', label='Original data')\n",
    "plt.scatter(x_train.data,y_train.data)\n",
    "plt.plot(x_train.numpy(), y_pred, 'r-',lw=3)\n",
    "plt.text(0.5,0,'loss=%.4f'%loss.data.item(),fontdict={'size':20,'color':'red'})\n",
    "plt.show()\n",
    "# print(y_train)\n",
    "# print(y_pred)"
   ]
  },
  {
   "cell_type": "code",
   "execution_count": null,
   "metadata": {
    "collapsed": true
   },
   "outputs": [],
   "source": []
  },
  {
   "cell_type": "code",
   "execution_count": null,
   "metadata": {
    "collapsed": true
   },
   "outputs": [],
   "source": []
  }
 ],
 "metadata": {
  "kernelspec": {
   "display_name": "Python 3",
   "language": "python",
   "name": "python3"
  },
  "language_info": {
   "codemirror_mode": {
    "name": "ipython",
    "version": 3
   },
   "file_extension": ".py",
   "mimetype": "text/x-python",
   "name": "python",
   "nbconvert_exporter": "python",
   "pygments_lexer": "ipython3",
   "version": "3.6.3"
  }
 },
 "nbformat": 4,
 "nbformat_minor": 2
}
